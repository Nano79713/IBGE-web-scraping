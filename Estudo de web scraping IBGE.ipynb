{
 "cells": [
  {
   "cell_type": "markdown",
   "id": "84430bf7",
   "metadata": {},
   "source": [
    "## Escopo do projeto"
   ]
  },
  {
   "cell_type": "markdown",
   "id": "7cf59a2d",
   "metadata": {},
   "source": [
    "O site do Instituto Brasileiro de Geografia e Estatística - IBGE disponibiliza diversas informações sobre todos os estados brasileiros, mais o distrito federal, dados como área territorial, PIB per capta e etc. Buscando aprimorar minhas habilidades em web scraping, realizarei a \"raspagem\" desses dados públicos.\n",
    "\n",
    "Nesta metodologia de web scraping iremos separar nosso processo em quatro etapas:\n",
    "1) Requisição;\n",
    "2) Seleção;\n",
    "3) Limpeza;\n",
    "4) Exportação.\n",
    "\n",
    "Na primeira etapa iremos fazer a requisição dos dados disponíveis, para depois selecionarmos aqueles que nos interessam. Após a seleção dos dados cabe a nós os tratarmos e, por fim, exportarmos para nosso sistema de armazenamento no formato que for conveniente."
   ]
  },
  {
   "cell_type": "markdown",
   "id": "7ea34e89",
   "metadata": {},
   "source": [
    "## Importando as bibliotecas que utilizaremos"
   ]
  },
  {
   "cell_type": "code",
   "execution_count": 71,
   "id": "07f33af0",
   "metadata": {},
   "outputs": [],
   "source": [
    "import requests\n",
    "from bs4 import BeautifulSoup\n",
    "import pandas as pd\n"
   ]
  },
  {
   "cell_type": "markdown",
   "id": "fedf7295",
   "metadata": {},
   "source": [
    "## Requisição e Seleção"
   ]
  },
  {
   "cell_type": "code",
   "execution_count": 20,
   "id": "7a1793d8",
   "metadata": {},
   "outputs": [],
   "source": [
    "## Função que realiza o web scrap\n",
    "\n",
    "## Criada função que recebe como parâmetro um estado tipo string, retornando um dicionário python\n",
    "\n",
    "def consulta_info_estado(estado: str) -> dict:\n",
    "    \n",
    "    ## Exibindo na tela os estados consultados\n",
    "    print(f\"Consultando informações do {estado}...\")\n",
    "    \n",
    "    ## Salvando nossa url que recebe uma interpolação da sigla do estado a ser consultado\n",
    "    url_estado = f\"https://www.ibge.gov.br/cidades-e-estados/{estado}.html\"\n",
    "    \n",
    "    ## Com o método get() do requests recebemos a url de cada estado\n",
    "    paginas = requests.get(url_estado)\n",
    "    \n",
    "    \n",
    "    ## Acessada cada pagina nós transformamos seu conteúdo em um objeto BeautifulSoup e aplicamos um html.parser\n",
    "    soup = BeautifulSoup(paginas.content, \"html.parser\")\n",
    "    \n",
    "    ## No site do IBGE eu analisei no código HTML que os dados que eu quero são contidos na classe indicador\n",
    "    ## Então eu utilizo o método select() do BeautifulSoup para pegar as tags que possuem a classe indicador\n",
    "    indicadores = soup.select(\".indicador\")\n",
    "    \n",
    "    ## Em cada indicador eu tenho duas classes (label e value), então itero com um for para retirar o texto de cada um\n",
    "    dict_estados = {indicador.select('.ind-label')[0].text: indicador.select('.ind-value')[0].text for indicador in indicadores}\n",
    "    \n",
    "    ## Criando uma coluna Estados no meu dict_estados e atribuindo a ele o valor estado\n",
    "    dict_estados[\"Estados\"] = estado\n",
    "    \n",
    "    ## Retornando nosso dict_estados\n",
    "    return dict_estados\n",
    "                   "
   ]
  },
  {
   "cell_type": "code",
   "execution_count": 21,
   "id": "e900c34e",
   "metadata": {},
   "outputs": [],
   "source": [
    "## Criando uma lista com a UF de cada estado brasileiro p/ consultarmos suas informações\n",
    "\n",
    "estados = ['AC', 'AL', 'AP', 'AM', 'BA', 'CE', 'DF', 'ES', 'GO', 'MA', 'MT', 'MS', 'MG', 'PA', 'PB', 'PR', 'PE', 'PI', 'RJ', 'RN', 'RS', 'RO', 'RR', 'SC', 'SP', 'SE', 'TO']"
   ]
  },
  {
   "cell_type": "code",
   "execution_count": 23,
   "id": "dcbbcb8b",
   "metadata": {},
   "outputs": [
    {
     "name": "stdout",
     "output_type": "stream",
     "text": [
      "Consultando informações do AC...\n",
      "Consultando informações do AL...\n",
      "Consultando informações do AP...\n",
      "Consultando informações do AM...\n",
      "Consultando informações do BA...\n",
      "Consultando informações do CE...\n",
      "Consultando informações do DF...\n",
      "Consultando informações do ES...\n",
      "Consultando informações do GO...\n",
      "Consultando informações do MA...\n",
      "Consultando informações do MT...\n",
      "Consultando informações do MS...\n",
      "Consultando informações do MG...\n",
      "Consultando informações do PA...\n",
      "Consultando informações do PB...\n",
      "Consultando informações do PR...\n",
      "Consultando informações do PE...\n",
      "Consultando informações do PI...\n",
      "Consultando informações do RJ...\n",
      "Consultando informações do RN...\n",
      "Consultando informações do RS...\n",
      "Consultando informações do RO...\n",
      "Consultando informações do RR...\n",
      "Consultando informações do SC...\n",
      "Consultando informações do SP...\n",
      "Consultando informações do SE...\n",
      "Consultando informações do TO...\n"
     ]
    }
   ],
   "source": [
    "## Criando uma variável que recebe uma lista onde chamamos nossa função e iteramos os parâmetros com nossa lista estados\n",
    "\n",
    "infos_estados = [consulta_info_estado(estado) for estado in estados]  "
   ]
  },
  {
   "cell_type": "code",
   "execution_count": 32,
   "id": "4f7a7baf",
   "metadata": {},
   "outputs": [],
   "source": [
    "## Transofmrando nossos dados em data frame do tipo pandas para tornar mais fácil sua manipulação\n",
    "\n",
    "df = pd.DataFrame(data = infos_estados)"
   ]
  },
  {
   "cell_type": "code",
   "execution_count": 33,
   "id": "508e6349",
   "metadata": {},
   "outputs": [
    {
     "data": {
      "text/plain": [
       "pandas.core.frame.DataFrame"
      ]
     },
     "execution_count": 33,
     "metadata": {},
     "output_type": "execute_result"
    }
   ],
   "source": [
    "## Verificando o tipo de dados do nosso df\n",
    "\n",
    "type(df)"
   ]
  },
  {
   "cell_type": "code",
   "execution_count": 51,
   "id": "cc8be24e",
   "metadata": {},
   "outputs": [
    {
     "data": {
      "text/html": [
       "<div>\n",
       "<style scoped>\n",
       "    .dataframe tbody tr th:only-of-type {\n",
       "        vertical-align: middle;\n",
       "    }\n",
       "\n",
       "    .dataframe tbody tr th {\n",
       "        vertical-align: top;\n",
       "    }\n",
       "\n",
       "    .dataframe thead th {\n",
       "        text-align: right;\n",
       "    }\n",
       "</style>\n",
       "<table border=\"1\" class=\"dataframe\">\n",
       "  <thead>\n",
       "    <tr style=\"text-align: right;\">\n",
       "      <th></th>\n",
       "      <th>Governador</th>\n",
       "      <th>Capital</th>\n",
       "      <th>Gentílico</th>\n",
       "      <th>Área Territorial</th>\n",
       "      <th>População estimada</th>\n",
       "      <th>Densidade demográfica</th>\n",
       "      <th>Matrículas no ensino fundamental</th>\n",
       "      <th>IDH Índice de desenvolvimento humano</th>\n",
       "      <th>Receitas realizadas</th>\n",
       "      <th>Despesas empenhadas</th>\n",
       "      <th>Rendimento mensal domiciliar per capita</th>\n",
       "      <th>Total de veículos</th>\n",
       "      <th>Estados</th>\n",
       "    </tr>\n",
       "  </thead>\n",
       "  <tbody>\n",
       "    <tr>\n",
       "      <th>0</th>\n",
       "      <td>GLADSON DE LIMA CAMELI   [2019]</td>\n",
       "      <td>Rio Branco   [2010]</td>\n",
       "      <td>acriano</td>\n",
       "      <td>164.173,431 km²   [2021]</td>\n",
       "      <td>906.876 pessoas   [2021]</td>\n",
       "      <td>4,47 hab/km²   [2010]</td>\n",
       "      <td>153.015 matrículas   [2021]</td>\n",
       "      <td>0,663   [2010]</td>\n",
       "      <td>6.632.883,11 R$ (×1000)   [2017]</td>\n",
       "      <td>6.084.416,81 R$ (×1000)   [2017]</td>\n",
       "      <td>888 R$   [2021]</td>\n",
       "      <td>320.173 veículos   [2021]</td>\n",
       "      <td>AC</td>\n",
       "    </tr>\n",
       "    <tr>\n",
       "      <th>1</th>\n",
       "      <td>JOSE RENAN VASCONCELOS CALHEIROS FILHO   [2019]</td>\n",
       "      <td>Maceió   [2010]</td>\n",
       "      <td>alagoano</td>\n",
       "      <td>27.830,661 km²   [2021]</td>\n",
       "      <td>3.365.351 pessoas   [2021]</td>\n",
       "      <td>112,33 hab/km²   [2010]</td>\n",
       "      <td>458.782 matrículas   [2021]</td>\n",
       "      <td>0,631   [2010]</td>\n",
       "      <td>11.950.438,46 R$ (×1000)   [2017]</td>\n",
       "      <td>10.460.634,92 R$ (×1000)   [2017]</td>\n",
       "      <td>777 R$   [2021]</td>\n",
       "      <td>981.823 veículos   [2021]</td>\n",
       "      <td>AL</td>\n",
       "    </tr>\n",
       "    <tr>\n",
       "      <th>2</th>\n",
       "      <td>ANTONIO WALDEZ GÓES DA SILVA   [2019]</td>\n",
       "      <td>Macapá   [2010]</td>\n",
       "      <td>amapaense</td>\n",
       "      <td>142.470,762 km²   [2021]</td>\n",
       "      <td>877.613 pessoas   [2021]</td>\n",
       "      <td>4,69 hab/km²   [2010]</td>\n",
       "      <td>133.839 matrículas   [2021]</td>\n",
       "      <td>0,708   [2010]</td>\n",
       "      <td>5.396.417,14 R$ (×1000)   [2017]</td>\n",
       "      <td>4.224.464,09 R$ (×1000)   [2017]</td>\n",
       "      <td>855 R$   [2021]</td>\n",
       "      <td>224.208 veículos   [2021]</td>\n",
       "      <td>AP</td>\n",
       "    </tr>\n",
       "    <tr>\n",
       "      <th>3</th>\n",
       "      <td>WILSON MIRANDA LIMA   [2019]</td>\n",
       "      <td>Manaus   [2010]</td>\n",
       "      <td>amazonense</td>\n",
       "      <td>1.559.167,878 km²   [2021]</td>\n",
       "      <td>4.269.995 pessoas   [2021]</td>\n",
       "      <td>2,23 hab/km²   [2010]</td>\n",
       "      <td>702.763 matrículas   [2021]</td>\n",
       "      <td>0,674   [2010]</td>\n",
       "      <td>17.328.459,43 R$ (×1000)   [2017]</td>\n",
       "      <td>15.324.896,56 R$ (×1000)   [2017]</td>\n",
       "      <td>800 R$   [2021]</td>\n",
       "      <td>1.014.026 veículos   [2021]</td>\n",
       "      <td>AM</td>\n",
       "    </tr>\n",
       "    <tr>\n",
       "      <th>4</th>\n",
       "      <td>RUI COSTA DOS SANTOS   [2019]</td>\n",
       "      <td>Salvador   [2010]</td>\n",
       "      <td>baiano</td>\n",
       "      <td>564.760,429 km²   [2021]</td>\n",
       "      <td>14.985.284 pessoas   [2021]</td>\n",
       "      <td>24,82 hab/km²   [2010]</td>\n",
       "      <td>1.946.957 matrículas   [2021]</td>\n",
       "      <td>0,660   [2010]</td>\n",
       "      <td>50.191.003,24 R$ (×1000)   [2017]</td>\n",
       "      <td>45.570.160,00 R$ (×1000)   [2017]</td>\n",
       "      <td>843 R$   [2021]</td>\n",
       "      <td>4.695.972 veículos   [2021]</td>\n",
       "      <td>BA</td>\n",
       "    </tr>\n",
       "  </tbody>\n",
       "</table>\n",
       "</div>"
      ],
      "text/plain": [
       "                                        Governador              Capital  \\\n",
       "0                  GLADSON DE LIMA CAMELI   [2019]  Rio Branco   [2010]   \n",
       "1  JOSE RENAN VASCONCELOS CALHEIROS FILHO   [2019]      Maceió   [2010]   \n",
       "2            ANTONIO WALDEZ GÓES DA SILVA   [2019]      Macapá   [2010]   \n",
       "3                     WILSON MIRANDA LIMA   [2019]      Manaus   [2010]   \n",
       "4                    RUI COSTA DOS SANTOS   [2019]    Salvador   [2010]   \n",
       "\n",
       "    Gentílico            Área Territorial           População estimada  \\\n",
       "0     acriano    164.173,431 km²   [2021]     906.876 pessoas   [2021]   \n",
       "1    alagoano     27.830,661 km²   [2021]   3.365.351 pessoas   [2021]   \n",
       "2   amapaense    142.470,762 km²   [2021]     877.613 pessoas   [2021]   \n",
       "3  amazonense  1.559.167,878 km²   [2021]   4.269.995 pessoas   [2021]   \n",
       "4      baiano    564.760,429 km²   [2021]  14.985.284 pessoas   [2021]   \n",
       "\n",
       "     Densidade demográfica Matrículas no ensino fundamental  \\\n",
       "0    4,47 hab/km²   [2010]       153.015 matrículas   [2021]   \n",
       "1  112,33 hab/km²   [2010]       458.782 matrículas   [2021]   \n",
       "2    4,69 hab/km²   [2010]       133.839 matrículas   [2021]   \n",
       "3    2,23 hab/km²   [2010]       702.763 matrículas   [2021]   \n",
       "4   24,82 hab/km²   [2010]     1.946.957 matrículas   [2021]   \n",
       "\n",
       "  IDH Índice de desenvolvimento humano                Receitas realizadas  \\\n",
       "0                        0,663   [2010]   6.632.883,11 R$ (×1000)   [2017]   \n",
       "1                        0,631   [2010]  11.950.438,46 R$ (×1000)   [2017]   \n",
       "2                        0,708   [2010]   5.396.417,14 R$ (×1000)   [2017]   \n",
       "3                        0,674   [2010]  17.328.459,43 R$ (×1000)   [2017]   \n",
       "4                        0,660   [2010]  50.191.003,24 R$ (×1000)   [2017]   \n",
       "\n",
       "                 Despesas empenhadas Rendimento mensal domiciliar per capita  \\\n",
       "0   6.084.416,81 R$ (×1000)   [2017]                         888 R$   [2021]   \n",
       "1  10.460.634,92 R$ (×1000)   [2017]                         777 R$   [2021]   \n",
       "2   4.224.464,09 R$ (×1000)   [2017]                         855 R$   [2021]   \n",
       "3  15.324.896,56 R$ (×1000)   [2017]                         800 R$   [2021]   \n",
       "4  45.570.160,00 R$ (×1000)   [2017]                         843 R$   [2021]   \n",
       "\n",
       "             Total de veículos Estados  \n",
       "0    320.173 veículos   [2021]      AC  \n",
       "1    981.823 veículos   [2021]      AL  \n",
       "2    224.208 veículos   [2021]      AP  \n",
       "3  1.014.026 veículos   [2021]      AM  \n",
       "4  4.695.972 veículos   [2021]      BA  "
      ]
     },
     "execution_count": 51,
     "metadata": {},
     "output_type": "execute_result"
    }
   ],
   "source": [
    "## Exibindo os cinco primeiros itens do nosso data frame\n",
    "\n",
    "df.head()"
   ]
  },
  {
   "cell_type": "code",
   "execution_count": 39,
   "id": "b676a5cc",
   "metadata": {},
   "outputs": [
    {
     "name": "stdout",
     "output_type": "stream",
     "text": [
      "<class 'pandas.core.frame.DataFrame'>\n",
      "RangeIndex: 27 entries, 0 to 26\n",
      "Data columns (total 13 columns):\n",
      " #   Column                                   Non-Null Count  Dtype \n",
      "---  ------                                   --------------  ----- \n",
      " 0   Governador                               27 non-null     object\n",
      " 1   Capital                                  27 non-null     object\n",
      " 2   Gentílico                                27 non-null     object\n",
      " 3   Área Territorial                         27 non-null     object\n",
      " 4   População estimada                       27 non-null     object\n",
      " 5   Densidade demográfica                    27 non-null     object\n",
      " 6   Matrículas no ensino fundamental        27 non-null     object\n",
      " 7   IDH Índice de desenvolvimento humano    27 non-null     object\n",
      " 8   Receitas realizadas                      27 non-null     object\n",
      " 9   Despesas empenhadas                      27 non-null     object\n",
      " 10  Rendimento mensal domiciliar per capita  27 non-null     object\n",
      " 11  Total de veículos                        27 non-null     object\n",
      " 12  Estados                                  27 non-null     object\n",
      "dtypes: object(13)\n",
      "memory usage: 2.9+ KB\n"
     ]
    }
   ],
   "source": [
    "## Criado nosso df temos que seus dados são do tipo objeto, logo precisamos transformá-los em números ou strings;\n",
    "\n",
    "df.info()"
   ]
  },
  {
   "cell_type": "markdown",
   "id": "a491e0e1",
   "metadata": {},
   "source": [
    "## Limpeza"
   ]
  },
  {
   "cell_type": "code",
   "execution_count": 41,
   "id": "827aa35c",
   "metadata": {},
   "outputs": [],
   "source": [
    "## É uma boa prática criarmos uma cópia do nosso data frame original p/ diminuir a chance de perdermos os dados originais\n",
    "\n",
    "df_estados = df.copy()"
   ]
  },
  {
   "cell_type": "code",
   "execution_count": 62,
   "id": "031000e5",
   "metadata": {},
   "outputs": [],
   "source": [
    "## Renomeando as colunas do data frame adotando as boas práticas (snake_case) e separando as colunas com tipos string e dado\n",
    "\n",
    "df_estados.columns = ['estado', 'governador', 'populacao', 'area', 'idh', 'pib_per_capta', 'total_veiculos', 'matriculas_ensino_fundamental', 'despesas_empenhadas', 'receitas_realizadas']"
   ]
  },
  {
   "cell_type": "code",
   "execution_count": 63,
   "id": "a61d227c",
   "metadata": {},
   "outputs": [],
   "source": [
    "## Aplicando um regex com o método replace p/ remover os caractéres que não queremos que sejam exibidos\n",
    "## Caracteres especiais como . precisam da \\ antes p/ que a regex funcione;\n",
    "\n",
    "df_estados = df_estados.replace({\n",
    "    '\\.': '',\n",
    "    ',': '.',\n",
    "    '\\[\\d+\\]': '',\n",
    "    ' hab/km²': '',\n",
    "    ' km²': '',\n",
    "    ' pessoas': '',\n",
    "    ' matrículas': '',\n",
    "    'R\\$.*': '',\n",
    "    ' veículos': ''\n",
    "}, regex = True)"
   ]
  },
  {
   "cell_type": "code",
   "execution_count": 64,
   "id": "c1acf799",
   "metadata": {},
   "outputs": [
    {
     "data": {
      "text/html": [
       "<div>\n",
       "<style scoped>\n",
       "    .dataframe tbody tr th:only-of-type {\n",
       "        vertical-align: middle;\n",
       "    }\n",
       "\n",
       "    .dataframe tbody tr th {\n",
       "        vertical-align: top;\n",
       "    }\n",
       "\n",
       "    .dataframe thead th {\n",
       "        text-align: right;\n",
       "    }\n",
       "</style>\n",
       "<table border=\"1\" class=\"dataframe\">\n",
       "  <thead>\n",
       "    <tr style=\"text-align: right;\">\n",
       "      <th></th>\n",
       "      <th>estado</th>\n",
       "      <th>governador</th>\n",
       "      <th>populacao</th>\n",
       "      <th>area</th>\n",
       "      <th>idh</th>\n",
       "      <th>pib_per_capta</th>\n",
       "      <th>total_veiculos</th>\n",
       "      <th>matriculas_ensino_fundamental</th>\n",
       "      <th>despesas_empenhadas</th>\n",
       "      <th>receitas_realizadas</th>\n",
       "    </tr>\n",
       "  </thead>\n",
       "  <tbody>\n",
       "    <tr>\n",
       "      <th>0</th>\n",
       "      <td>AC</td>\n",
       "      <td>GLADSON DE LIMA CAMELI</td>\n",
       "      <td>906876</td>\n",
       "      <td>164173431</td>\n",
       "      <td>0663</td>\n",
       "      <td>888</td>\n",
       "      <td>320173</td>\n",
       "      <td>153015</td>\n",
       "      <td>608441681</td>\n",
       "      <td>663288311</td>\n",
       "    </tr>\n",
       "    <tr>\n",
       "      <th>1</th>\n",
       "      <td>AL</td>\n",
       "      <td>JOSE RENAN VASCONCELOS CALHEIROS FILHO</td>\n",
       "      <td>3365351</td>\n",
       "      <td>27830661</td>\n",
       "      <td>0631</td>\n",
       "      <td>777</td>\n",
       "      <td>981823</td>\n",
       "      <td>458782</td>\n",
       "      <td>1046063492</td>\n",
       "      <td>1195043846</td>\n",
       "    </tr>\n",
       "    <tr>\n",
       "      <th>2</th>\n",
       "      <td>AP</td>\n",
       "      <td>ANTONIO WALDEZ GÓES DA SILVA</td>\n",
       "      <td>877613</td>\n",
       "      <td>142470762</td>\n",
       "      <td>0708</td>\n",
       "      <td>855</td>\n",
       "      <td>224208</td>\n",
       "      <td>133839</td>\n",
       "      <td>422446409</td>\n",
       "      <td>539641714</td>\n",
       "    </tr>\n",
       "    <tr>\n",
       "      <th>3</th>\n",
       "      <td>AM</td>\n",
       "      <td>WILSON MIRANDA LIMA</td>\n",
       "      <td>4269995</td>\n",
       "      <td>1559167878</td>\n",
       "      <td>0674</td>\n",
       "      <td>800</td>\n",
       "      <td>1014026</td>\n",
       "      <td>702763</td>\n",
       "      <td>1532489656</td>\n",
       "      <td>1732845943</td>\n",
       "    </tr>\n",
       "    <tr>\n",
       "      <th>4</th>\n",
       "      <td>BA</td>\n",
       "      <td>RUI COSTA DOS SANTOS</td>\n",
       "      <td>14985284</td>\n",
       "      <td>564760429</td>\n",
       "      <td>0660</td>\n",
       "      <td>843</td>\n",
       "      <td>4695972</td>\n",
       "      <td>1946957</td>\n",
       "      <td>4557016000</td>\n",
       "      <td>5019100324</td>\n",
       "    </tr>\n",
       "  </tbody>\n",
       "</table>\n",
       "</div>"
      ],
      "text/plain": [
       "  estado                                 governador    populacao  \\\n",
       "0     AC                  GLADSON DE LIMA CAMELI       906876      \n",
       "1     AL  JOSE RENAN VASCONCELOS CALHEIROS FILHO      3365351      \n",
       "2     AP            ANTONIO WALDEZ GÓES DA SILVA       877613      \n",
       "3     AM                     WILSON MIRANDA LIMA      4269995      \n",
       "4     BA                    RUI COSTA DOS SANTOS     14985284      \n",
       "\n",
       "            area      idh pib_per_capta total_veiculos  \\\n",
       "0   164173431     0663             888       320173      \n",
       "1    27830661     0631             777       981823      \n",
       "2   142470762     0708             855       224208      \n",
       "3  1559167878     0674             800      1014026      \n",
       "4   564760429     0660             843      4695972      \n",
       "\n",
       "  matriculas_ensino_fundamental despesas_empenhadas receitas_realizadas  \n",
       "0                     153015             608441681           663288311   \n",
       "1                     458782            1046063492          1195043846   \n",
       "2                     133839             422446409           539641714   \n",
       "3                     702763            1532489656          1732845943   \n",
       "4                    1946957            4557016000          5019100324   "
      ]
     },
     "execution_count": 64,
     "metadata": {},
     "output_type": "execute_result"
    }
   ],
   "source": [
    "## Verificando se os caracteres foram retirados\n",
    "\n",
    "df_estados.head()"
   ]
  },
  {
   "cell_type": "code",
   "execution_count": 65,
   "id": "d655de4c",
   "metadata": {},
   "outputs": [],
   "source": [
    "## Vou criar uma lista que contenham dados do tipo númerico para depois realizar a conversão destes\n",
    "\n",
    "colunas_numericas = ['populacao', 'area', 'idh', 'pib_per_capta', 'total_veiculos', 'matriculas_ensino_fundamental', 'despesas_empenhadas', 'receitas_realizadas']"
   ]
  },
  {
   "cell_type": "code",
   "execution_count": 66,
   "id": "8944426f",
   "metadata": {},
   "outputs": [],
   "source": [
    "## Retirando todos os possíveis espaços nas colunas_numericas com o método .apply(), lambda, .str e .strip()\n",
    "\n",
    "df_estados[colunas_numericas] = df_estados[colunas_numericas].apply(lambda x: x.str.strip())"
   ]
  },
  {
   "cell_type": "code",
   "execution_count": 67,
   "id": "d35a8870",
   "metadata": {},
   "outputs": [],
   "source": [
    "## Convertendo as colunas_numericas de tipo string para numerico\n",
    "\n",
    "df_estados[colunas_numericas] = df_estados[colunas_numericas].apply(pd.to_numeric)"
   ]
  },
  {
   "cell_type": "code",
   "execution_count": 69,
   "id": "fc098097",
   "metadata": {},
   "outputs": [
    {
     "name": "stdout",
     "output_type": "stream",
     "text": [
      "<class 'pandas.core.frame.DataFrame'>\n",
      "RangeIndex: 27 entries, 0 to 26\n",
      "Data columns (total 10 columns):\n",
      " #   Column                         Non-Null Count  Dtype \n",
      "---  ------                         --------------  ----- \n",
      " 0   estado                         27 non-null     object\n",
      " 1   governador                     27 non-null     object\n",
      " 2   populacao                      27 non-null     int64 \n",
      " 3   area                           27 non-null     int64 \n",
      " 4   idh                            27 non-null     int64 \n",
      " 5   pib_per_capta                  27 non-null     int64 \n",
      " 6   total_veiculos                 27 non-null     int64 \n",
      " 7   matriculas_ensino_fundamental  27 non-null     int64 \n",
      " 8   despesas_empenhadas            27 non-null     int64 \n",
      " 9   receitas_realizadas            27 non-null     int64 \n",
      "dtypes: int64(8), object(2)\n",
      "memory usage: 2.2+ KB\n"
     ]
    }
   ],
   "source": [
    "## Confirmando que as colunas tiveram seus tipos alterados para números\n",
    "\n",
    "df_estados.info()"
   ]
  },
  {
   "cell_type": "markdown",
   "id": "175fbceb",
   "metadata": {},
   "source": [
    "## Exportação"
   ]
  },
  {
   "cell_type": "code",
   "execution_count": 76,
   "id": "cd6ecf05",
   "metadata": {},
   "outputs": [
    {
     "data": {
      "text/plain": [
       "',estado,governador,populacao,area,idh,pib_per_capta,total_veiculos,matriculas_ensino_fundamental,despesas_empenhadas,receitas_realizadas\\n0,AC,GLADSON DE LIMA CAMELI\\xa0\\xa0\\xa0,906876,164173431,663,888,320173,153015,608441681,663288311\\n1,AL,JOSE RENAN VASCONCELOS CALHEIROS FILHO\\xa0\\xa0\\xa0,3365351,27830661,631,777,981823,458782,1046063492,1195043846\\n2,AP,ANTONIO WALDEZ GÓES DA SILVA\\xa0\\xa0\\xa0,877613,142470762,708,855,224208,133839,422446409,539641714\\n3,AM,WILSON MIRANDA LIMA\\xa0\\xa0\\xa0,4269995,1559167878,674,800,1014026,702763,1532489656,1732845943\\n4,BA,RUI COSTA DOS SANTOS\\xa0\\xa0\\xa0,14985284,564760429,660,843,4695972,1946957,4557016000,5019100324\\n5,CE,CAMILO SOBREIRA DE SANTANA\\xa0\\xa0\\xa0,9240580,148894447,682,881,3513199,1161434,2460835218,2842022247\\n6,DF,IBANEIS ROCHA BARROS JUNIOR\\xa0\\xa0\\xa0,3094325,5760784,824,2513,1979698,369128,2199046468,2381221127\\n7,ES,JOSE RENATO CASAGRANDE\\xa0\\xa0\\xa0,4108508,46074448,740,1295,2160432,503003,1439233800,1968561674\\n8,GO,RONALDO RAMOS CAIADO\\xa0\\xa0\\xa0,7206589,340242856,735,1276,4369349,855021,2424838034,3788533517\\n9,MA,FLÁVIO DINO DE CASTRO E COSTA\\xa0\\xa0\\xa0,7153262,329651496,639,635,1940475,1112636,1762717076,1850326135\\n10,MT,MAURO MENDES FERREIRA\\xa0\\xa0\\xa0,3567234,903207047,725,1362,2443785,486568,1818736327,2395852884\\n11,MS,REINALDO AZAMBUJA SILVA\\xa0\\xa0\\xa0,2839188,357147995,729,1471,1764689,391975,1450691537,1639665577\\n12,MG,ROMEU ZEMA NETO\\xa0\\xa0\\xa0,21411923,586513983,731,1325,12503229,2407107,9839166916,9719982316\\n13,PA,HELDER ZAHLUTH BARBALHO\\xa0\\xa0\\xa0,8777124,1245870700,646,847,2352727,1389983,2253347005,2584944610\\n14,PB,JOÃO AZEVEDO LINS FILHO\\xa0\\xa0\\xa0,4059905,56467242,658,876,1470901,540919,1007470004,1309700532\\n15,PR,CARLOS ROBERTO MASSA JUNIOR\\xa0\\xa0\\xa0,11597484,199298981,749,1541,8339982,1348296,5553440297,6016357612\\n16,PE,PAULO HENRIQUE SARAIVA CÂMARA\\xa0\\xa0\\xa0,9674793,98067877,673,829,3334479,1249850,3332048644,3574602897\\n17,PI,JOSÉ WELLINGTON BARROSO DE ARAÚJO DIAS\\xa0\\xa0\\xa0,3289290,251755481,646,837,1338918,459871,967673632,1212421562\\n18,RJ,CLÁUDIO BOMFIM DE CASTRO E SILVA\\xa0\\xa0\\xa0,17463349,43750425,761,1724,7296355,1945408,6796554870,7848814079\\n19,RN,MARIA DE FATIMA BEZERRA\\xa0\\xa0\\xa0,3560903,52809599,684,1109,1444307,447692,1133095755,1352755273\\n20,RS,RANOLFO VIEIRA JÚNIOR\\xa0\\xa0\\xa0,11466630,281707151,746,1787,7689278,1257992,6247627934,6639746818\\n21,RO,MARCOS JOSE ROCHA DOS SANTOS\\xa0\\xa0\\xa0,1815278,237765347,690,1023,1113279,244815,708553002,912231072\\n22,RR,ANTONIO OLIVERIO GARCIA DE ALMEIDA\\xa0\\xa0\\xa0,652713,223644530,707,1046,250675,103123,386509427,426631855\\n23,SC,CARLOS MOISÉS DA SILVA\\xa0\\xa0\\xa0,7338473,95730690,774,1718,5786199,900240,2559510338,3469677282\\n24,SP,RODRIGO GARCIA\\xa0\\xa0\\xa0,46649132,248219485,783,1836,31455473,5396803,23198224369,23282249657\\n25,SE,BELIVALDO CHAGAS SILVA\\xa0\\xa0\\xa0,2338474,21938188,665,929,871776,320638,849492720,1014504695\\n26,TO,WANDERLEI BARBOSA CASTRO\\xa0\\xa0\\xa0,1607363,277423627,699,1028,791463,227743,892945644,1030509901\\n'"
      ]
     },
     "execution_count": 76,
     "metadata": {},
     "output_type": "execute_result"
    }
   ],
   "source": [
    "## Aplicamos o método .to_csv() do pandas e como parâmetro passamos o path que queremos salvar o arquivo\n",
    "\n",
    "df_estados.to_csv()"
   ]
  },
  {
   "cell_type": "code",
   "execution_count": null,
   "id": "158f7d07",
   "metadata": {},
   "outputs": [],
   "source": []
  }
 ],
 "metadata": {
  "kernelspec": {
   "display_name": "Python 3 (ipykernel)",
   "language": "python",
   "name": "python3"
  },
  "language_info": {
   "codemirror_mode": {
    "name": "ipython",
    "version": 3
   },
   "file_extension": ".py",
   "mimetype": "text/x-python",
   "name": "python",
   "nbconvert_exporter": "python",
   "pygments_lexer": "ipython3",
   "version": "3.8.10"
  }
 },
 "nbformat": 4,
 "nbformat_minor": 5
}
